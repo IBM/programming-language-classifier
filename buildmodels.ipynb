{
 "cells": [
  {
   "cell_type": "markdown",
   "metadata": {},
   "source": [
    "# AI NEXTCon Seattle 2018 Modeling "
   ]
  },
  {
   "cell_type": "markdown",
   "metadata": {},
   "source": [
    "Download Watson Developer Cloud, import libraries, and load train/test sets"
   ]
  },
  {
   "cell_type": "code",
   "execution_count": null,
   "metadata": {
    "collapsed": true
   },
   "outputs": [],
   "source": [
    "!pip install --upgrade watson_developer_cloud"
   ]
  },
  {
   "cell_type": "code",
   "execution_count": 1,
   "metadata": {
    "collapsed": true
   },
   "outputs": [],
   "source": [
    "import base64\n",
    "import numpy as np\n",
    "from watson_developer_cloud import NaturalLanguageClassifierV1\n",
    "from os import listdir\n",
    "from os.path import isfile, join\n",
    "import csv\n",
    "import re\n",
    "from collections import *\n",
    "import operator\n",
    "import json"
   ]
  },
  {
   "cell_type": "code",
   "execution_count": null,
   "metadata": {
    "collapsed": true
   },
   "outputs": [],
   "source": [
    "train_data = np.load(\"githubtrainingdatacompressed.npz\")\n",
    "test_data = np.load(\"githubtestdatacompressed.npz\")"
   ]
  },
  {
   "cell_type": "markdown",
   "metadata": {},
   "source": [
    "### A little more preprocessing\n",
    "\n",
    "break the training data into separate dictionaries indexed by pl type, and map training data to a csv for Watson (my csv is on GitHub)"
   ]
  },
  {
   "cell_type": "code",
   "execution_count": 4,
   "metadata": {
    "collapsed": true
   },
   "outputs": [],
   "source": [
    "pls = {}\n",
    "for row in range(len(train_data)):\n",
    "    if train_data[row][1] not in pls:\n",
    "        pls[train_data[row][1]] = []\n",
    "    pls[train_data[row][1]].append(train_data[row][0])\n",
    "    "
   ]
  },
  {
   "cell_type": "markdown",
   "metadata": {
    "collapsed": true
   },
   "source": [
    "CSV cannot exceed 1024 characters for column width and 15000 rows"
   ]
  },
  {
   "cell_type": "code",
   "execution_count": 93,
   "metadata": {
    "collapsed": true
   },
   "outputs": [],
   "source": [
    "chunk = 1024\n",
    "with open('trainingdatanew.csv', 'w') as csvfile:\n",
    "    fieldnames = ['text', 'pl']\n",
    "    writer = csv.DictWriter(csvfile, fieldnames=fieldnames)\n",
    "    for i in train_data:\n",
    "        for j in range(0,len(i[0]),chunk):\n",
    "            text = re.sub(' +',' ',\" \".join(re.split(r'[^\\w]', re.sub(re.compile(\"/\\*.*?\\*/\",re.DOTALL ) ,\"\" ,i[0][j:j+chunk]))))   \n",
    "            writer.writerow({'text': text, 'pl': i[1]})"
   ]
  },
  {
   "cell_type": "markdown",
   "metadata": {},
   "source": [
    "## Naive Bayes Classifier\n",
    "\n",
    "Here we train a Naive Bayes Classifier\n",
    "for a light review on Naive Bayes look through the slides on GitHub\n",
    "for a thorough background on this topic (and many others in Machine Learning) \n",
    "check out Tom Mitchell's Carnegie Mellon course \n",
    "http://cc-web.isri.cmu.edu/CourseCast/Viewer/Default.aspx?id=a666b6e6-ad23-4fa3-96ce-ae50a42f45a3"
   ]
  },
  {
   "cell_type": "code",
   "execution_count": 10,
   "metadata": {
    "collapsed": true
   },
   "outputs": [],
   "source": [
    "def bayes_train(pldict, samples):\n",
    "    plprobs = {}\n",
    "    counts = Counter()\n",
    "    for i in pldict.iterkeys():\n",
    "        plprobs[i] = float(len(pldict[i]))/samples\n",
    "        \n",
    "    plwordprobs = {}\n",
    "    plwordcounts = {}\n",
    "    for pl in pldict.iterkeys():\n",
    "        plwordprobs[pl] = {}\n",
    "        plwordcounts[pl] = 0\n",
    "    \n",
    "    for pl in pldict.iterkeys():\n",
    "        for i in pldict[pl]:\n",
    "            counts.update(filter(None, re.split(r'[^\\w]', re.sub(re.compile(\"/\\*.*?\\*/\",re.DOTALL ) ,\"\" ,i))))\n",
    "            for word in counts.iterkeys():\n",
    "                if word not in plwordprobs[pl]:\n",
    "                    plwordprobs[pl][word] = counts[word]\n",
    "                else:\n",
    "                    plwordprobs[pl][word] += counts[word]\n",
    "                plwordcounts[pl] += counts[word]\n",
    "            plwordcount = 0\n",
    "            counts = Counter()\n",
    "    for pl in plwordprobs.iterkeys():   \n",
    "        for word in plwordprobs[pl]:\n",
    "            plwordprobs[pl][word] = float(plwordprobs[pl][word])/plwordcounts[pl]\n",
    "        \n",
    "    \n",
    "    return plprobs, plwordprobs\n",
    "    \n",
    "plrobs, plwordprobs = bayes_train(pls, len(training_data))"
   ]
  },
  {
   "cell_type": "markdown",
   "metadata": {},
   "source": [
    "Checking out the distribution of programming languages in our training set, and 10 of the most commonly used words of a particular language, try replacing 'sh' with other languages and observe the output"
   ]
  },
  {
   "cell_type": "code",
   "execution_count": 161,
   "metadata": {},
   "outputs": [
    {
     "data": {
      "text/plain": [
       "{'go': 0.04184782608695652,\n",
       " 'java': 0.2184782608695652,\n",
       " 'js': 0.20597826086956522,\n",
       " 'm': 0.06956521739130435,\n",
       " 'py': 0.07880434782608696,\n",
       " 'sh': 0.17771739130434783,\n",
       " 'swift': 0.175,\n",
       " 'xml': 0.03260869565217391}"
      ]
     },
     "execution_count": 161,
     "metadata": {},
     "output_type": "execute_result"
    }
   ],
   "source": [
    "plprobs"
   ]
  },
  {
   "cell_type": "code",
   "execution_count": 153,
   "metadata": {},
   "outputs": [
    {
     "data": {
      "text/plain": [
       "[('echo', 0.03864587716931944),\n",
       " ('the', 0.03778674579624146),\n",
       " ('0', 0.033368860713964506),\n",
       " ('1', 0.030890171747144934),\n",
       " ('if', 0.02780092617570351),\n",
       " ('for', 0.027205853790126674),\n",
       " ('import', 0.02685395198273526),\n",
       " ('to', 0.02617263735275594),\n",
       " ('in', 0.02470367772682303),\n",
       " ('return', 0.023925887959715765)]"
      ]
     },
     "execution_count": 153,
     "metadata": {},
     "output_type": "execute_result"
    }
   ],
   "source": [
    "sorted(plwordprobs['sh'].iteritems(), key=operator.itemgetter(1) ,reverse=True)[:10]"
   ]
  },
  {
   "cell_type": "markdown",
   "metadata": {},
   "source": [
    "Using the Naive Bayes Classifier to predict on the test set, again use the CMU course as a reference"
   ]
  },
  {
   "cell_type": "code",
   "execution_count": 17,
   "metadata": {
    "collapsed": true
   },
   "outputs": [],
   "source": [
    "def testbayes(testdata,plprob,plwordprob):\n",
    "    Ypred = []\n",
    "\n",
    "    for row in testdata:\n",
    "        testcounter = Counter()\n",
    "        testcounter.update(filter(None, re.split(r'[^\\w]', re.sub(re.compile(\"/\\*.*?\\*/\",re.DOTALL ) ,\"\" ,str(row[0])))))\n",
    "\n",
    "        prob = {}\n",
    "        for key in plprob.iterkeys():\n",
    "            prob[key] = 0\n",
    "        for key in prob.iterkeys():\n",
    "            for i in testcounter:\n",
    "                if i not in plwordprobs[key]:\n",
    "                    plwordprob[key][i] = 1e-4\n",
    "                else:\n",
    "                    plwordprob[key][i] += 1e-4\n",
    "                prob[key] += testcounter[i]*np.log(plwordprob[key][i])\n",
    "            prob[key] += np.log(plprob[key])\n",
    "        Ypred.append(max(prob.iteritems(), key=operator.itemgetter(1))[0])\n",
    "    \n",
    "    return Ypred"
   ]
  },
  {
   "cell_type": "code",
   "execution_count": 20,
   "metadata": {
    "collapsed": true
   },
   "outputs": [],
   "source": [
    "predictions = testbayes(test_data, plprobs, plwordprobs)"
   ]
  },
  {
   "cell_type": "markdown",
   "metadata": {
    "collapsed": true
   },
   "source": [
    "### Watson and Evaluating Classification Accuracy\n",
    "\n",
    "Autherticate with Watson, send it the training data csv, wait for it to finish its training phase, and compute the accuarcy of both models. \n",
    "\n",
    "My results are displayed below. Let me know what you get at nacosta@us.ibm.com"
   ]
  },
  {
   "cell_type": "code",
   "execution_count": 104,
   "metadata": {
    "collapsed": true
   },
   "outputs": [],
   "source": [
    "classifier_id = \"pynotpy-natural-la-1510788551714\"\n",
    "natural_language_classifier = NaturalLanguageClassifierV1(\n",
    "    username=\"YOURUSERNAME\",\n",
    "    password=\"YOURPASSWORD\")"
   ]
  },
  {
   "cell_type": "code",
   "execution_count": 117,
   "metadata": {},
   "outputs": [
    {
     "name": "stdout",
     "output_type": "stream",
     "text": [
      "{\n",
      "  \"status\": \"Training\", \n",
      "  \"name\": \"pydata\", \n",
      "  \"language\": \"en\", \n",
      "  \"created\": \"2017-11-26T05:28:14.097Z\", \n",
      "  \"url\": \"https://gateway.watsonplatform.net/natural-language-classifier/api/v1/classifiers/ee2ec4x254-nlc-4275\", \n",
      "  \"status_description\": \"The classifier instance is in its training phase, not yet ready to accept classify requests\", \n",
      "  \"classifier_id\": \"ee2ec4x254-nlc-4275\"\n",
      "}\n"
     ]
    }
   ],
   "source": [
    "with open('trainingdatanew.csv', 'rb') as training_data:\n",
    "    print(json.dumps(natural_language_classifier.create(training_data=training_data, name='pydata'), indent=2))"
   ]
  },
  {
   "cell_type": "code",
   "execution_count": 118,
   "metadata": {},
   "outputs": [
    {
     "data": {
      "text/plain": [
       "{u'classifier_id': u'ee2ec4x254-nlc-4275',\n",
       " u'created': u'2017-11-26T05:28:14.097Z',\n",
       " u'language': u'en',\n",
       " u'name': u'pydata',\n",
       " u'status': u'Training',\n",
       " u'status_description': u'The classifier instance is in its training phase, not yet ready to accept classify requests',\n",
       " u'url': u'https://gateway.watsonplatform.net/natural-language-classifier/api/v1/classifiers/ee2ec4x254-nlc-4275'}"
      ]
     },
     "execution_count": 118,
     "metadata": {},
     "output_type": "execute_result"
    }
   ],
   "source": [
    "natural_language_classifier.status(\"ee2ec4x254-nlc-4275\")"
   ]
  },
  {
   "cell_type": "code",
   "execution_count": 154,
   "metadata": {},
   "outputs": [
    {
     "data": {
      "text/plain": [
       "{u'classifier_id': u'ee2ec4x254-nlc-4275',\n",
       " u'created': u'2017-11-26T05:28:14.097Z',\n",
       " u'language': u'en',\n",
       " u'name': u'pydata',\n",
       " u'status': u'Available',\n",
       " u'status_description': u'The classifier instance is now available and is ready to take classifier requests.',\n",
       " u'url': u'https://gateway.watsonplatform.net/natural-language-classifier/api/v1/classifiers/ee2ec4x254-nlc-4275'}"
      ]
     },
     "execution_count": 154,
     "metadata": {},
     "output_type": "execute_result"
    }
   ],
   "source": [
    "natural_language_classifier.status(\"ee2ec4x254-nlc-4275\")"
   ]
  },
  {
   "cell_type": "code",
   "execution_count": 35,
   "metadata": {
    "collapsed": true
   },
   "outputs": [],
   "source": [
    "def compute_my_accuracy(pred, testdata):\n",
    "    count = 0\n",
    "    for i in range(len(pred)):\n",
    "        if pred[i]==testdata[i][1]:\n",
    "            count += 1\n",
    "    return float(count)/len(pred)"
   ]
  },
  {
   "cell_type": "code",
   "execution_count": 129,
   "metadata": {
    "collapsed": true
   },
   "outputs": [],
   "source": [
    "def compute_watson_accuracy(testdata, classifier_id):\n",
    "    count = 0\n",
    "    for i in testdata:\n",
    "        x = natural_language_classifier.classify(classifier_id,re.sub(' +',' ',\" \".join(re.split(r'[^\\w]', re.sub(re.compile(\"/\\*.*?\\*/\",re.DOTALL ) ,\"\" ,i[0]))))[0:1024])\n",
    "        if x['top_class'] == i[1]:\n",
    "            count += 1\n",
    "    return float(count)/len(testdata)\n",
    "\n",
    "watsonpred = []\n",
    "for i in test_data:\n",
    "    x = natural_language_classifier.classify(\"ee2ec4x254-nlc-4275\",re.sub(' +',' ',\" \".join(re.split(r'[^\\w]', re.sub(re.compile(\"/\\*.*?\\*/\",re.DOTALL ) ,\"\" ,i[0]))))[0:1024])\n",
    "    watsonpred.append(x['top_class']) \n",
    "    \n",
    "def compute_watson_accuracy_fast(pred, testdata):\n",
    "    count = 0\n",
    "    for i in range(len(pred)):\n",
    "        if pred[i]==testdata[i][1]:\n",
    "            count += 1\n",
    "    return float(count)/len(pred)\n",
    "    \n",
    "    "
   ]
  },
  {
   "cell_type": "code",
   "execution_count": 155,
   "metadata": {},
   "outputs": [
    {
     "data": {
      "text/plain": [
       "0.971677559912854"
      ]
     },
     "execution_count": 155,
     "metadata": {},
     "output_type": "execute_result"
    }
   ],
   "source": [
    "compute_my_accuracy(predictions, test_data)"
   ]
  },
  {
   "cell_type": "code",
   "execution_count": 156,
   "metadata": {},
   "outputs": [
    {
     "data": {
      "text/plain": [
       "1.0"
      ]
     },
     "execution_count": 156,
     "metadata": {},
     "output_type": "execute_result"
    }
   ],
   "source": [
    "compute_watson_accuracy_fast(watsonpred, test_data)"
   ]
  },
  {
   "cell_type": "code",
   "execution_count": 157,
   "metadata": {},
   "outputs": [
    {
     "name": "stdout",
     "output_type": "stream",
     "text": [
      "js js\n",
      "swift swift\n",
      "sh sh\n",
      "swift swift\n",
      "java java\n",
      "m m\n",
      "m m\n",
      "m m\n",
      "js js\n",
      "sh sh\n",
      "py py\n",
      "java java\n",
      "java java\n",
      "sh sh\n",
      "sh sh\n",
      "java java\n",
      "java java\n",
      "swift swift\n",
      "sh sh\n",
      "js js\n",
      "swift swift\n",
      "swift swift\n",
      "sh sh\n",
      "java java\n",
      "js js\n",
      "py py\n",
      "swift swift\n",
      "sh sh\n",
      "java java\n",
      "js js\n",
      "swift swift\n",
      "sh sh\n",
      "js js\n",
      "java java\n",
      "xml xml\n",
      "sh sh\n",
      "swift swift\n",
      "swift swift\n",
      "m m\n",
      "js js\n",
      "js js\n",
      "js js\n",
      "swift swift\n",
      "java java\n",
      "js js\n",
      "js js\n",
      "py py\n",
      "java java\n",
      "sh sh\n",
      "go go\n",
      "java java\n",
      "sh sh\n",
      "js js\n",
      "m m\n",
      "m m\n",
      "js js\n",
      "m m\n",
      "go go\n",
      "js js\n",
      "js js\n",
      "swift swift\n",
      "sh sh\n",
      "swift swift\n",
      "sh sh\n",
      "swift swift\n",
      "swift swift\n",
      "js js\n",
      "java java\n",
      "py py\n",
      "java java\n",
      "m m\n",
      "m m\n",
      "java java\n",
      "js js\n",
      "sh sh\n",
      "swift swift\n",
      "swift swift\n",
      "go go\n",
      "swift swift\n",
      "java java\n",
      "js js\n",
      "sh sh\n",
      "xml xml\n",
      "js js\n",
      "swift swift\n",
      "swift swift\n",
      "js js\n",
      "sh sh\n",
      "swift swift\n",
      "sh sh\n",
      "sh sh\n",
      "js js\n",
      "java java\n",
      "sh sh\n",
      "swift swift\n",
      "m m\n",
      "py py\n",
      "js js\n",
      "sh sh\n",
      "go go\n",
      "go go\n",
      "swift swift\n",
      "java java\n",
      "sh sh\n",
      "java java\n",
      "java java\n",
      "swift swift\n",
      "sh sh\n",
      "swift swift\n",
      "sh sh\n",
      "java java\n",
      "js js\n",
      "swift swift\n",
      "sh sh\n",
      "py py\n",
      "swift swift\n",
      "m m\n",
      "js js\n",
      "xml xml\n",
      "go go\n",
      "java java\n",
      "m m\n",
      "js js\n",
      "sh sh\n",
      "js js\n",
      "js js\n",
      "js js\n",
      "js js\n",
      "swift swift\n",
      "swift swift\n",
      "sh sh\n",
      "js js\n",
      "sh sh\n",
      "java java\n",
      "sh sh\n",
      "go go\n",
      "java java\n",
      "java java\n",
      "swift swift\n",
      "swift swift\n",
      "sh sh\n",
      "xml xml\n",
      "m m\n",
      "java java\n",
      "sh sh\n",
      "sh sh\n",
      "java java\n",
      "js js\n",
      "js js\n",
      "swift swift\n",
      "js js\n",
      "swift swift\n",
      "go go\n",
      "js js\n",
      "m m\n",
      "java java\n",
      "sh sh\n",
      "swift swift\n",
      "m m\n",
      "java java\n",
      "m m\n",
      "java java\n",
      "sh sh\n",
      "go go\n",
      "xml xml\n",
      "py py\n",
      "sh sh\n",
      "java java\n",
      "js js\n",
      "js js\n",
      "java java\n",
      "js js\n",
      "swift swift\n",
      "m m\n",
      "go go\n",
      "swift swift\n",
      "py py\n",
      "swift swift\n",
      "java java\n",
      "swift swift\n",
      "js js\n",
      "go go\n",
      "js js\n",
      "swift swift\n",
      "java java\n",
      "java java\n",
      "sh sh\n",
      "js js\n",
      "sh sh\n",
      "java java\n",
      "py py\n",
      "xml xml\n",
      "java java\n",
      "js js\n",
      "java java\n",
      "sh sh\n",
      "java java\n",
      "java java\n",
      "m m\n",
      "swift swift\n",
      "sh sh\n",
      "js js\n",
      "sh sh\n",
      "swift swift\n",
      "swift swift\n",
      "swift swift\n",
      "js js\n",
      "js js\n",
      "swift swift\n",
      "swift swift\n",
      "go go\n",
      "swift swift\n",
      "sh sh\n",
      "sh sh\n",
      "swift swift\n",
      "java java\n",
      "sh sh\n",
      "java java\n",
      "java java\n",
      "java java\n",
      "go go\n",
      "js js\n",
      "java java\n",
      "py py\n",
      "java java\n",
      "swift swift\n",
      "js js\n",
      "m m\n",
      "sh sh\n",
      "java java\n",
      "go go\n",
      "swift swift\n",
      "js js\n",
      "java java\n",
      "sh sh\n",
      "swift swift\n",
      "java java\n",
      "m m\n",
      "m m\n",
      "xml xml\n",
      "java java\n",
      "sh sh\n",
      "java java\n",
      "swift swift\n",
      "sh sh\n",
      "java java\n",
      "swift swift\n",
      "sh sh\n",
      "sh sh\n",
      "py py\n",
      "swift swift\n",
      "js js\n",
      "sh sh\n",
      "js js\n",
      "java java\n",
      "m m\n",
      "m m\n",
      "py py\n",
      "sh sh\n",
      "js js\n",
      "go go\n",
      "py py\n",
      "java java\n",
      "js js\n",
      "java java\n",
      "java java\n",
      "js js\n",
      "sh sh\n",
      "java java\n",
      "swift swift\n",
      "swift swift\n",
      "swift swift\n",
      "swift swift\n",
      "go go\n",
      "swift swift\n",
      "m m\n",
      "sh sh\n",
      "java java\n",
      "java java\n",
      "py py\n",
      "sh sh\n",
      "swift swift\n",
      "sh sh\n",
      "swift swift\n",
      "js js\n",
      "py py\n",
      "swift swift\n",
      "js js\n",
      "java java\n",
      "sh sh\n",
      "sh sh\n",
      "java java\n",
      "m m\n",
      "js js\n",
      "java java\n",
      "go go\n",
      "swift swift\n",
      "java java\n",
      "js js\n",
      "sh sh\n",
      "js js\n",
      "js js\n",
      "java java\n",
      "js js\n",
      "java java\n",
      "swift swift\n",
      "sh sh\n",
      "js js\n",
      "java java\n",
      "sh sh\n",
      "java java\n",
      "go go\n",
      "sh sh\n",
      "java java\n",
      "swift swift\n",
      "java java\n",
      "swift swift\n",
      "java java\n",
      "java java\n",
      "sh sh\n",
      "sh sh\n",
      "js js\n",
      "xml xml\n",
      "java java\n",
      "sh sh\n",
      "js js\n",
      "sh sh\n",
      "py py\n",
      "sh sh\n",
      "swift swift\n",
      "js js\n",
      "java java\n",
      "java java\n",
      "js js\n",
      "sh sh\n",
      "js js\n",
      "go go\n",
      "swift swift\n",
      "py py\n",
      "java java\n",
      "java java\n",
      "js js\n",
      "swift swift\n",
      "js js\n",
      "js js\n",
      "swift swift\n",
      "sh sh\n",
      "swift swift\n",
      "swift swift\n",
      "m m\n",
      "xml xml\n",
      "go go\n",
      "sh sh\n",
      "java java\n",
      "py py\n",
      "java java\n",
      "java java\n",
      "js js\n",
      "sh sh\n",
      "js js\n",
      "sh sh\n",
      "java java\n",
      "py py\n",
      "js js\n",
      "java java\n",
      "swift swift\n",
      "js js\n",
      "java java\n",
      "js js\n",
      "sh sh\n",
      "java java\n",
      "swift swift\n",
      "py py\n",
      "swift swift\n",
      "js js\n",
      "js js\n",
      "js js\n",
      "m m\n",
      "m m\n",
      "js js\n",
      "swift swift\n",
      "m m\n",
      "java java\n",
      "swift swift\n",
      "swift swift\n",
      "xml xml\n",
      "go go\n",
      "js js\n",
      "m m\n",
      "sh sh\n",
      "swift swift\n",
      "java java\n",
      "java java\n",
      "swift swift\n",
      "xml xml\n",
      "xml xml\n",
      "m m\n",
      "java java\n",
      "sh sh\n",
      "js js\n",
      "swift swift\n",
      "swift swift\n",
      "java java\n",
      "swift swift\n",
      "swift swift\n",
      "sh sh\n",
      "swift swift\n",
      "swift swift\n",
      "swift swift\n",
      "sh sh\n",
      "java java\n",
      "js js\n",
      "js js\n",
      "sh sh\n",
      "java java\n",
      "sh sh\n",
      "swift swift\n",
      "js js\n",
      "java java\n",
      "swift swift\n",
      "js js\n",
      "swift swift\n",
      "go go\n",
      "m m\n",
      "js js\n",
      "java java\n",
      "java java\n",
      "m m\n",
      "js js\n",
      "sh sh\n",
      "java java\n",
      "java java\n",
      "py py\n",
      "js js\n",
      "sh sh\n",
      "js js\n",
      "java java\n",
      "sh sh\n",
      "py py\n",
      "py py\n",
      "m m\n",
      "py py\n",
      "sh sh\n",
      "java java\n",
      "java java\n",
      "js js\n",
      "sh sh\n",
      "java java\n",
      "java java\n",
      "java java\n",
      "java java\n",
      "js js\n",
      "swift swift\n",
      "js js\n",
      "java java\n",
      "js js\n",
      "swift swift\n",
      "swift swift\n",
      "sh sh\n"
     ]
    }
   ],
   "source": [
    "for i in range(len(test_data)):\n",
    "    print test_data[i][1], watsonpred[i]"
   ]
  }
 ],
 "metadata": {
  "kernelspec": {
   "display_name": "Python 2",
   "language": "python",
   "name": "python2"
  },
  "language_info": {
   "codemirror_mode": {
    "name": "ipython",
    "version": 2
   },
   "file_extension": ".py",
   "mimetype": "text/x-python",
   "name": "python",
   "nbconvert_exporter": "python",
   "pygments_lexer": "ipython2",
   "version": "2.7.13"
  }
 },
 "nbformat": 4,
 "nbformat_minor": 2
}
